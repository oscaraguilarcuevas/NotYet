{
 "cells": [
  {
   "cell_type": "code",
   "execution_count": 1,
   "id": "daeb40c5",
   "metadata": {},
   "outputs": [],
   "source": [
    "import csv"
   ]
  },
  {
   "cell_type": "code",
   "execution_count": 5,
   "id": "60542316",
   "metadata": {},
   "outputs": [
    {
     "name": "stdout",
     "output_type": "stream",
     "text": [
      "{'street': '3526 HIGH ST', 'city': 'SACRAMENTO', 'zip': '95838', 'state': 'CA', 'beds': '2', 'baths': '1', 'sq__ft': '836', 'type': 'Residential', 'sale_date': 'Wed May 21 00:00:00 EDT 2008', 'price': '59222', 'latitude': '38.631913', 'longitude': '-121.434879'}\n",
      "{'street': '51 OMAHA CT', 'city': 'SACRAMENTO', 'zip': '95823', 'state': 'CA', 'beds': '3', 'baths': '1', 'sq__ft': '1167', 'type': 'Residential', 'sale_date': 'Wed May 21 00:00:00 EDT 2008', 'price': '68212', 'latitude': '38.478902', 'longitude': '-121.431028'}\n",
      "{'street': '2796 BRANCH ST', 'city': 'SACRAMENTO', 'zip': '95815', 'state': 'CA', 'beds': '2', 'baths': '1', 'sq__ft': '796', 'type': 'Residential', 'sale_date': 'Wed May 21 00:00:00 EDT 2008', 'price': '68880', 'latitude': '38.618305', 'longitude': '-121.443839'}\n",
      "{'street': '2805 JANETTE WAY', 'city': 'SACRAMENTO', 'zip': '95815', 'state': 'CA', 'beds': '2', 'baths': '1', 'sq__ft': '852', 'type': 'Residential', 'sale_date': 'Wed May 21 00:00:00 EDT 2008', 'price': '69307', 'latitude': '38.616835', 'longitude': '-121.439146'}\n",
      "{'street': '6001 MCMAHON DR', 'city': 'SACRAMENTO', 'zip': '95824', 'state': 'CA', 'beds': '2', 'baths': '1', 'sq__ft': '797', 'type': 'Residential', 'sale_date': 'Wed May 21 00:00:00 EDT 2008', 'price': '81900', 'latitude': '38.51947', 'longitude': '-121.435768'}\n",
      "{'street': '5828 PEPPERMILL CT', 'city': 'SACRAMENTO', 'zip': '95841', 'state': 'CA', 'beds': '3', 'baths': '1', 'sq__ft': '1122', 'type': 'Condo', 'sale_date': 'Wed May 21 00:00:00 EDT 2008', 'price': '89921', 'latitude': '38.662595', 'longitude': '-121.327813'}\n",
      "{'street': '6048 OGDEN NASH WAY', 'city': 'SACRAMENTO', 'zip': '95842', 'state': 'CA', 'beds': '3', 'baths': '2', 'sq__ft': '1104', 'type': 'Residential', 'sale_date': 'Wed May 21 00:00:00 EDT 2008', 'price': '90895', 'latitude': '38.681659', 'longitude': '-121.351705'}\n",
      "{'street': '2561 19TH AVE', 'city': 'SACRAMENTO', 'zip': '95820', 'state': 'CA', 'beds': '3', 'baths': '1', 'sq__ft': '1177', 'type': 'Residential', 'sale_date': 'Wed May 21 00:00:00 EDT 2008', 'price': '91002', 'latitude': '38.535092', 'longitude': '-121.481367'}\n",
      "{'street': '11150 TRINITY RIVER DR Unit 114', 'city': 'RANCHO CORDOVA', 'zip': '95670', 'state': 'CA', 'beds': '2', 'baths': '2', 'sq__ft': '941', 'type': 'Condo', 'sale_date': 'Wed May 21 00:00:00 EDT 2008', 'price': '94905', 'latitude': '38.621188', 'longitude': '-121.270555'}\n",
      "{'street': '7325 10TH ST', 'city': 'RIO LINDA', 'zip': '95673', 'state': 'CA', 'beds': '3', 'baths': '2', 'sq__ft': '1146', 'type': 'Residential', 'sale_date': 'Wed May 21 00:00:00 EDT 2008', 'price': '98937', 'latitude': '38.700909', 'longitude': '-121.442979'}\n",
      "{'street': '645 MORRISON AVE', 'city': 'SACRAMENTO', 'zip': '95838', 'state': 'CA', 'beds': '3', 'baths': '2', 'sq__ft': '909', 'type': 'Residential', 'sale_date': 'Wed May 21 00:00:00 EDT 2008', 'price': '100309', 'latitude': '38.637663', 'longitude': '-121.45152'}\n"
     ]
    }
   ],
   "source": [
    "with open(\"../Documents/Pyt/DataProcIH/Sacramentorealestatetransactions.csv\", \"r\") as csvfile:\n",
    "    real_estate_data = csv.DictReader(csvfile, delimiter =\",\")\n",
    "    i = 0\n",
    "    for row in real_estate_data:\n",
    "        print(row)\n",
    "        if i == 10:\n",
    "            break\n",
    "        i+=1"
   ]
  },
  {
   "cell_type": "code",
   "execution_count": null,
   "id": "54e056be",
   "metadata": {},
   "outputs": [],
   "source": []
  }
 ],
 "metadata": {
  "kernelspec": {
   "display_name": "Python 3 (ipykernel)",
   "language": "python",
   "name": "python3"
  },
  "language_info": {
   "codemirror_mode": {
    "name": "ipython",
    "version": 3
   },
   "file_extension": ".py",
   "mimetype": "text/x-python",
   "name": "python",
   "nbconvert_exporter": "python",
   "pygments_lexer": "ipython3",
   "version": "3.9.12"
  }
 },
 "nbformat": 4,
 "nbformat_minor": 5
}
