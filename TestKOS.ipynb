{
 "cells": [
  {
   "cell_type": "code",
   "execution_count": 1,
   "id": "583c5833",
   "metadata": {},
   "outputs": [],
   "source": [
    "import csv"
   ]
  },
  {
   "cell_type": "code",
   "execution_count": 2,
   "id": "bc93772e",
   "metadata": {},
   "outputs": [
    {
     "name": "stdout",
     "output_type": "stream",
     "text": [
      "{'': '0', 'Unnamed: 0': '0', 'ga:date': '20190101', 'ga:deviceCategory': 'desktop', 'ga:dimension13': 'Technical 50-50 AA-T:0,Recommendation Slide:0,Second Technical 50-:0', 'ga:pageviews': '20471.0', 'ga:sessions': '3688.0', 'ga:transactionRevenue': '5752.6892191725465', 'ga:transactions': '16.0', 'ga:uniquePageviews': '15230'}\n",
      "{'': '1', 'Unnamed: 0': '1', 'ga:date': '20190101', 'ga:deviceCategory': 'mobile', 'ga:dimension13': 'Technical 50-50 AA-T:0,Recommendation Slide:0,Second Technical 50-:0', 'ga:pageviews': '55935.0', 'ga:sessions': '11187.0', 'ga:transactionRevenue': '13608.66148352123', 'ga:transactions': '63.0', 'ga:uniquePageviews': '38746'}\n",
      "{'': '2', 'Unnamed: 0': '2', 'ga:date': '20190101', 'ga:deviceCategory': 'tablet', 'ga:dimension13': 'Technical 50-50 AA-T:0,Recommendation Slide:0,Second Technical 50-:0', 'ga:pageviews': '16573.0', 'ga:sessions': '2857.0', 'ga:transactionRevenue': '1888.473350014937', 'ga:transactions': '16.0', 'ga:uniquePageviews': '11914'}\n",
      "{'': '3', 'Unnamed: 0': '3', 'ga:date': '20190102', 'ga:deviceCategory': 'desktop', 'ga:dimension13': 'Technical 50-50 AA-T:0,Recommendation Slide:0,Second Technical 50-:0', 'ga:pageviews': '35192.0', 'ga:sessions': '5426.0', 'ga:transactionRevenue': '1974.257458047882', 'ga:transactions': '16.0', 'ga:uniquePageviews': '25681'}\n",
      "{'': '4', 'Unnamed: 0': '4', 'ga:date': '20190102', 'ga:deviceCategory': 'mobile', 'ga:dimension13': 'Technical 50-50 AA-T:0,Recommendation Slide:0,Second Technical 50-:0', 'ga:pageviews': '62595.0', 'ga:sessions': '11332.0', 'ga:transactionRevenue': '16585.946557324103', 'ga:transactions': '24.0', 'ga:uniquePageviews': '42533'}\n",
      "{'': '5', 'Unnamed: 0': '5', 'ga:date': '20190102', 'ga:deviceCategory': 'tablet', 'ga:dimension13': 'Technical 50-50 AA-T:0,Recommendation Slide:0,Second Technical 50-:0', 'ga:pageviews': '18223.0', 'ga:sessions': '2987.0', 'ga:transactionRevenue': '520.644887110495', 'ga:transactions': '16.0', 'ga:uniquePageviews': '12401'}\n",
      "{'': '6', 'Unnamed: 0': '6', 'ga:date': '20190103', 'ga:deviceCategory': 'desktop', 'ga:dimension13': 'Technical 50-50 AA-T:0,Recommendation Slide:0,Second Technical 50-:0', 'ga:pageviews': '40451.0', 'ga:sessions': '6241.0', 'ga:transactionRevenue': '16789.225190445723', 'ga:transactions': '47.0', 'ga:uniquePageviews': '28933'}\n",
      "{'': '7', 'Unnamed: 0': '7', 'ga:date': '20190103', 'ga:deviceCategory': 'mobile', 'ga:dimension13': 'Technical 50-50 AA-T:0,Recommendation Slide:0,Second Technical 50-:0', 'ga:pageviews': '71138.0', 'ga:sessions': '12574.0', 'ga:transactionRevenue': '6958.296616798211', 'ga:transactions': '39.0', 'ga:uniquePageviews': '47799'}\n",
      "{'': '8', 'Unnamed: 0': '8', 'ga:date': '20190103', 'ga:deviceCategory': 'tablet', 'ga:dimension13': 'Technical 50-50 AA-T:0,Recommendation Slide:0,Second Technical 50-:0', 'ga:pageviews': '16448.0', 'ga:sessions': '2752.0', 'ga:transactionRevenue': '1982.3816147727762', 'ga:transactions': '16.0', 'ga:uniquePageviews': '11434'}\n",
      "{'': '9', 'Unnamed: 0': '9', 'ga:date': '20190104', 'ga:deviceCategory': 'desktop', 'ga:dimension13': 'Technical 50-50 AA-T:0,Recommendation Slide:0,Second Technical 50-:0', 'ga:pageviews': '41362.0', 'ga:sessions': '6188.0', 'ga:transactionRevenue': '5865.990631289222', 'ga:transactions': '24.0', 'ga:uniquePageviews': '29357'}\n",
      "{'': '10', 'Unnamed: 0': '10', 'ga:date': '20190104', 'ga:deviceCategory': 'mobile', 'ga:dimension13': 'Technical 50-50 AA-T:0,Recommendation Slide:0,Second Technical 50-:0', 'ga:pageviews': '62463.0', 'ga:sessions': '12072.0', 'ga:transactionRevenue': '17576.831616194937', 'ga:transactions': '47.0', 'ga:uniquePageviews': '42909'}\n"
     ]
    }
   ],
   "source": [
    "with open(\"ga_data_rndm_2.csv\", \"r\") as csvfile:\n",
    "    real_estate_data = csv.DictReader(csvfile, delimiter =\",\")\n",
    "    i = 0\n",
    "    for row in real_estate_data:\n",
    "        print(row)\n",
    "        if i == 10:\n",
    "            break\n",
    "        i+=1"
   ]
  },
  {
   "cell_type": "code",
   "execution_count": null,
   "id": "04ac9a30",
   "metadata": {},
   "outputs": [],
   "source": []
  }
 ],
 "metadata": {
  "kernelspec": {
   "display_name": "Python 3 (ipykernel)",
   "language": "python",
   "name": "python3"
  },
  "language_info": {
   "codemirror_mode": {
    "name": "ipython",
    "version": 3
   },
   "file_extension": ".py",
   "mimetype": "text/x-python",
   "name": "python",
   "nbconvert_exporter": "python",
   "pygments_lexer": "ipython3",
   "version": "3.9.12"
  }
 },
 "nbformat": 4,
 "nbformat_minor": 5
}
